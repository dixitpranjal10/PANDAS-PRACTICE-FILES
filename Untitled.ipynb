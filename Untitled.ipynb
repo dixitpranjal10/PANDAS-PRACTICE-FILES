{
 "cells": [
  {
   "cell_type": "code",
   "execution_count": 1,
   "id": "dd265105-d6b2-431c-af92-02af1af575ee",
   "metadata": {},
   "outputs": [],
   "source": [
    "import numpy as np\n",
    "import pandas as pd"
   ]
  },
  {
   "cell_type": "code",
   "execution_count": 2,
   "id": "8d03c50e-13d7-4f34-9cb2-8bc594e86952",
   "metadata": {},
   "outputs": [],
   "source": [
    "dict1={\n",
    "    \"name\" : [ 'pranjal', 'harsh', 'priyanshu' ],\n",
    "    \"marks\": [ 94, 82, 56 ],\n",
    "    \"city\" : [ 'kanpur', 'agra', 'agra' ]\n",
    "}"
   ]
  },
  {
   "cell_type": "code",
   "execution_count": 3,
   "id": "04fae812-55e8-4d96-bfb2-ce100dfd6b28",
   "metadata": {},
   "outputs": [],
   "source": [
    "df= pd.DataFrame(dict1)"
   ]
  },
  {
   "cell_type": "code",
   "execution_count": 4,
   "id": "52b9b09e-0c31-4fc1-bdd4-ba6d2f6db1a3",
   "metadata": {},
   "outputs": [
    {
     "data": {
      "text/html": [
       "<div>\n",
       "<style scoped>\n",
       "    .dataframe tbody tr th:only-of-type {\n",
       "        vertical-align: middle;\n",
       "    }\n",
       "\n",
       "    .dataframe tbody tr th {\n",
       "        vertical-align: top;\n",
       "    }\n",
       "\n",
       "    .dataframe thead th {\n",
       "        text-align: right;\n",
       "    }\n",
       "</style>\n",
       "<table border=\"1\" class=\"dataframe\">\n",
       "  <thead>\n",
       "    <tr style=\"text-align: right;\">\n",
       "      <th></th>\n",
       "      <th>name</th>\n",
       "      <th>marks</th>\n",
       "      <th>city</th>\n",
       "    </tr>\n",
       "  </thead>\n",
       "  <tbody>\n",
       "    <tr>\n",
       "      <th>0</th>\n",
       "      <td>pranjal</td>\n",
       "      <td>94</td>\n",
       "      <td>kanpur</td>\n",
       "    </tr>\n",
       "    <tr>\n",
       "      <th>1</th>\n",
       "      <td>harsh</td>\n",
       "      <td>82</td>\n",
       "      <td>agra</td>\n",
       "    </tr>\n",
       "    <tr>\n",
       "      <th>2</th>\n",
       "      <td>priyanshu</td>\n",
       "      <td>56</td>\n",
       "      <td>agra</td>\n",
       "    </tr>\n",
       "  </tbody>\n",
       "</table>\n",
       "</div>"
      ],
      "text/plain": [
       "        name  marks    city\n",
       "0    pranjal     94  kanpur\n",
       "1      harsh     82    agra\n",
       "2  priyanshu     56    agra"
      ]
     },
     "execution_count": 4,
     "metadata": {},
     "output_type": "execute_result"
    }
   ],
   "source": [
    "df"
   ]
  },
  {
   "cell_type": "code",
   "execution_count": 5,
   "id": "363e914f-f1b8-49b3-b1bc-4afbb397df1a",
   "metadata": {},
   "outputs": [],
   "source": [
    "df.to_csv('demo.csv')"
   ]
  },
  {
   "cell_type": "code",
   "execution_count": 6,
   "id": "cd44abcc",
   "metadata": {},
   "outputs": [],
   "source": [
    "df.to_csv('demoindexfalse.csv',index=False)"
   ]
  },
  {
   "cell_type": "code",
   "execution_count": 7,
   "id": "dc812847",
   "metadata": {},
   "outputs": [
    {
     "data": {
      "text/html": [
       "<div>\n",
       "<style scoped>\n",
       "    .dataframe tbody tr th:only-of-type {\n",
       "        vertical-align: middle;\n",
       "    }\n",
       "\n",
       "    .dataframe tbody tr th {\n",
       "        vertical-align: top;\n",
       "    }\n",
       "\n",
       "    .dataframe thead th {\n",
       "        text-align: right;\n",
       "    }\n",
       "</style>\n",
       "<table border=\"1\" class=\"dataframe\">\n",
       "  <thead>\n",
       "    <tr style=\"text-align: right;\">\n",
       "      <th></th>\n",
       "      <th>name</th>\n",
       "      <th>marks</th>\n",
       "      <th>city</th>\n",
       "    </tr>\n",
       "  </thead>\n",
       "  <tbody>\n",
       "    <tr>\n",
       "      <th>0</th>\n",
       "      <td>pranjal</td>\n",
       "      <td>94</td>\n",
       "      <td>kanpur</td>\n",
       "    </tr>\n",
       "    <tr>\n",
       "      <th>1</th>\n",
       "      <td>harsh</td>\n",
       "      <td>82</td>\n",
       "      <td>agra</td>\n",
       "    </tr>\n",
       "  </tbody>\n",
       "</table>\n",
       "</div>"
      ],
      "text/plain": [
       "      name  marks    city\n",
       "0  pranjal     94  kanpur\n",
       "1    harsh     82    agra"
      ]
     },
     "execution_count": 7,
     "metadata": {},
     "output_type": "execute_result"
    }
   ],
   "source": [
    "df.head(2)"
   ]
  },
  {
   "cell_type": "code",
   "execution_count": 8,
   "id": "7f35a096",
   "metadata": {},
   "outputs": [
    {
     "data": {
      "text/html": [
       "<div>\n",
       "<style scoped>\n",
       "    .dataframe tbody tr th:only-of-type {\n",
       "        vertical-align: middle;\n",
       "    }\n",
       "\n",
       "    .dataframe tbody tr th {\n",
       "        vertical-align: top;\n",
       "    }\n",
       "\n",
       "    .dataframe thead th {\n",
       "        text-align: right;\n",
       "    }\n",
       "</style>\n",
       "<table border=\"1\" class=\"dataframe\">\n",
       "  <thead>\n",
       "    <tr style=\"text-align: right;\">\n",
       "      <th></th>\n",
       "      <th>name</th>\n",
       "      <th>marks</th>\n",
       "      <th>city</th>\n",
       "    </tr>\n",
       "  </thead>\n",
       "  <tbody>\n",
       "    <tr>\n",
       "      <th>1</th>\n",
       "      <td>harsh</td>\n",
       "      <td>82</td>\n",
       "      <td>agra</td>\n",
       "    </tr>\n",
       "    <tr>\n",
       "      <th>2</th>\n",
       "      <td>priyanshu</td>\n",
       "      <td>56</td>\n",
       "      <td>agra</td>\n",
       "    </tr>\n",
       "  </tbody>\n",
       "</table>\n",
       "</div>"
      ],
      "text/plain": [
       "        name  marks  city\n",
       "1      harsh     82  agra\n",
       "2  priyanshu     56  agra"
      ]
     },
     "execution_count": 8,
     "metadata": {},
     "output_type": "execute_result"
    }
   ],
   "source": [
    "df.tail(2)"
   ]
  },
  {
   "cell_type": "code",
   "execution_count": 10,
   "id": "dcfa5d86",
   "metadata": {},
   "outputs": [
    {
     "data": {
      "text/html": [
       "<div>\n",
       "<style scoped>\n",
       "    .dataframe tbody tr th:only-of-type {\n",
       "        vertical-align: middle;\n",
       "    }\n",
       "\n",
       "    .dataframe tbody tr th {\n",
       "        vertical-align: top;\n",
       "    }\n",
       "\n",
       "    .dataframe thead th {\n",
       "        text-align: right;\n",
       "    }\n",
       "</style>\n",
       "<table border=\"1\" class=\"dataframe\">\n",
       "  <thead>\n",
       "    <tr style=\"text-align: right;\">\n",
       "      <th></th>\n",
       "      <th>marks</th>\n",
       "    </tr>\n",
       "  </thead>\n",
       "  <tbody>\n",
       "    <tr>\n",
       "      <th>count</th>\n",
       "      <td>3.000000</td>\n",
       "    </tr>\n",
       "    <tr>\n",
       "      <th>mean</th>\n",
       "      <td>77.333333</td>\n",
       "    </tr>\n",
       "    <tr>\n",
       "      <th>std</th>\n",
       "      <td>19.425070</td>\n",
       "    </tr>\n",
       "    <tr>\n",
       "      <th>min</th>\n",
       "      <td>56.000000</td>\n",
       "    </tr>\n",
       "    <tr>\n",
       "      <th>25%</th>\n",
       "      <td>69.000000</td>\n",
       "    </tr>\n",
       "    <tr>\n",
       "      <th>50%</th>\n",
       "      <td>82.000000</td>\n",
       "    </tr>\n",
       "    <tr>\n",
       "      <th>75%</th>\n",
       "      <td>88.000000</td>\n",
       "    </tr>\n",
       "    <tr>\n",
       "      <th>max</th>\n",
       "      <td>94.000000</td>\n",
       "    </tr>\n",
       "  </tbody>\n",
       "</table>\n",
       "</div>"
      ],
      "text/plain": [
       "           marks\n",
       "count   3.000000\n",
       "mean   77.333333\n",
       "std    19.425070\n",
       "min    56.000000\n",
       "25%    69.000000\n",
       "50%    82.000000\n",
       "75%    88.000000\n",
       "max    94.000000"
      ]
     },
     "execution_count": 10,
     "metadata": {},
     "output_type": "execute_result"
    }
   ],
   "source": [
    "df.describe()"
   ]
  },
  {
   "cell_type": "code",
   "execution_count": 13,
   "id": "c930e68c",
   "metadata": {},
   "outputs": [],
   "source": [
    "demo=pd.read_csv('demo.csv')"
   ]
  },
  {
   "cell_type": "code",
   "execution_count": 14,
   "id": "bcf6e560",
   "metadata": {},
   "outputs": [
    {
     "data": {
      "text/html": [
       "<div>\n",
       "<style scoped>\n",
       "    .dataframe tbody tr th:only-of-type {\n",
       "        vertical-align: middle;\n",
       "    }\n",
       "\n",
       "    .dataframe tbody tr th {\n",
       "        vertical-align: top;\n",
       "    }\n",
       "\n",
       "    .dataframe thead th {\n",
       "        text-align: right;\n",
       "    }\n",
       "</style>\n",
       "<table border=\"1\" class=\"dataframe\">\n",
       "  <thead>\n",
       "    <tr style=\"text-align: right;\">\n",
       "      <th></th>\n",
       "      <th>Unnamed: 0</th>\n",
       "      <th>name</th>\n",
       "      <th>marks</th>\n",
       "      <th>city</th>\n",
       "    </tr>\n",
       "  </thead>\n",
       "  <tbody>\n",
       "    <tr>\n",
       "      <th>0</th>\n",
       "      <td>0</td>\n",
       "      <td>pranjal</td>\n",
       "      <td>94</td>\n",
       "      <td>kanpur</td>\n",
       "    </tr>\n",
       "    <tr>\n",
       "      <th>1</th>\n",
       "      <td>1</td>\n",
       "      <td>harsh</td>\n",
       "      <td>82</td>\n",
       "      <td>agra</td>\n",
       "    </tr>\n",
       "    <tr>\n",
       "      <th>2</th>\n",
       "      <td>2</td>\n",
       "      <td>priyanshu</td>\n",
       "      <td>56</td>\n",
       "      <td>agra</td>\n",
       "    </tr>\n",
       "  </tbody>\n",
       "</table>\n",
       "</div>"
      ],
      "text/plain": [
       "   Unnamed: 0       name  marks    city\n",
       "0           0    pranjal     94  kanpur\n",
       "1           1      harsh     82    agra\n",
       "2           2  priyanshu     56    agra"
      ]
     },
     "execution_count": 14,
     "metadata": {},
     "output_type": "execute_result"
    }
   ],
   "source": [
    "demo"
   ]
  },
  {
   "cell_type": "code",
   "execution_count": 15,
   "id": "a4be595d",
   "metadata": {},
   "outputs": [
    {
     "data": {
      "text/plain": [
       "0    94\n",
       "1    82\n",
       "2    56\n",
       "Name: marks, dtype: int64"
      ]
     },
     "execution_count": 15,
     "metadata": {},
     "output_type": "execute_result"
    }
   ],
   "source": [
    "demo['marks']"
   ]
  },
  {
   "cell_type": "code",
   "execution_count": 17,
   "id": "5f3eed0b",
   "metadata": {},
   "outputs": [
    {
     "data": {
      "text/plain": [
       "np.int64(94)"
      ]
     },
     "execution_count": 17,
     "metadata": {},
     "output_type": "execute_result"
    }
   ],
   "source": [
    "demo['marks'][0]"
   ]
  },
  {
   "cell_type": "code",
   "execution_count": 18,
   "id": "cf6b9ae0",
   "metadata": {},
   "outputs": [
    {
     "name": "stderr",
     "output_type": "stream",
     "text": [
      "C:\\Users\\dixit\\AppData\\Local\\Temp\\ipykernel_22168\\662622838.py:1: SettingWithCopyWarning: \n",
      "A value is trying to be set on a copy of a slice from a DataFrame\n",
      "\n",
      "See the caveats in the documentation: https://pandas.pydata.org/pandas-docs/stable/user_guide/indexing.html#returning-a-view-versus-a-copy\n",
      "  demo['marks'][0]=96\n"
     ]
    }
   ],
   "source": [
    "demo['marks'][0]=96"
   ]
  },
  {
   "cell_type": "code",
   "execution_count": 19,
   "id": "f9a587b2",
   "metadata": {},
   "outputs": [
    {
     "data": {
      "text/html": [
       "<div>\n",
       "<style scoped>\n",
       "    .dataframe tbody tr th:only-of-type {\n",
       "        vertical-align: middle;\n",
       "    }\n",
       "\n",
       "    .dataframe tbody tr th {\n",
       "        vertical-align: top;\n",
       "    }\n",
       "\n",
       "    .dataframe thead th {\n",
       "        text-align: right;\n",
       "    }\n",
       "</style>\n",
       "<table border=\"1\" class=\"dataframe\">\n",
       "  <thead>\n",
       "    <tr style=\"text-align: right;\">\n",
       "      <th></th>\n",
       "      <th>Unnamed: 0</th>\n",
       "      <th>name</th>\n",
       "      <th>marks</th>\n",
       "      <th>city</th>\n",
       "    </tr>\n",
       "  </thead>\n",
       "  <tbody>\n",
       "    <tr>\n",
       "      <th>0</th>\n",
       "      <td>0</td>\n",
       "      <td>pranjal</td>\n",
       "      <td>96</td>\n",
       "      <td>kanpur</td>\n",
       "    </tr>\n",
       "    <tr>\n",
       "      <th>1</th>\n",
       "      <td>1</td>\n",
       "      <td>harsh</td>\n",
       "      <td>82</td>\n",
       "      <td>agra</td>\n",
       "    </tr>\n",
       "    <tr>\n",
       "      <th>2</th>\n",
       "      <td>2</td>\n",
       "      <td>priyanshu</td>\n",
       "      <td>56</td>\n",
       "      <td>agra</td>\n",
       "    </tr>\n",
       "  </tbody>\n",
       "</table>\n",
       "</div>"
      ],
      "text/plain": [
       "   Unnamed: 0       name  marks    city\n",
       "0           0    pranjal     96  kanpur\n",
       "1           1      harsh     82    agra\n",
       "2           2  priyanshu     56    agra"
      ]
     },
     "execution_count": 19,
     "metadata": {},
     "output_type": "execute_result"
    }
   ],
   "source": [
    "demo"
   ]
  },
  {
   "cell_type": "code",
   "execution_count": 20,
   "id": "c6c49c88",
   "metadata": {},
   "outputs": [],
   "source": [
    "demo.to_csv('demo.csv')"
   ]
  },
  {
   "cell_type": "code",
   "execution_count": 21,
   "id": "434158bb",
   "metadata": {},
   "outputs": [],
   "source": [
    "demo.index  = ['first', 'second', 'third']"
   ]
  },
  {
   "cell_type": "code",
   "execution_count": 22,
   "id": "941dd96c",
   "metadata": {},
   "outputs": [
    {
     "data": {
      "text/html": [
       "<div>\n",
       "<style scoped>\n",
       "    .dataframe tbody tr th:only-of-type {\n",
       "        vertical-align: middle;\n",
       "    }\n",
       "\n",
       "    .dataframe tbody tr th {\n",
       "        vertical-align: top;\n",
       "    }\n",
       "\n",
       "    .dataframe thead th {\n",
       "        text-align: right;\n",
       "    }\n",
       "</style>\n",
       "<table border=\"1\" class=\"dataframe\">\n",
       "  <thead>\n",
       "    <tr style=\"text-align: right;\">\n",
       "      <th></th>\n",
       "      <th>Unnamed: 0</th>\n",
       "      <th>name</th>\n",
       "      <th>marks</th>\n",
       "      <th>city</th>\n",
       "    </tr>\n",
       "  </thead>\n",
       "  <tbody>\n",
       "    <tr>\n",
       "      <th>first</th>\n",
       "      <td>0</td>\n",
       "      <td>pranjal</td>\n",
       "      <td>96</td>\n",
       "      <td>kanpur</td>\n",
       "    </tr>\n",
       "    <tr>\n",
       "      <th>second</th>\n",
       "      <td>1</td>\n",
       "      <td>harsh</td>\n",
       "      <td>82</td>\n",
       "      <td>agra</td>\n",
       "    </tr>\n",
       "    <tr>\n",
       "      <th>third</th>\n",
       "      <td>2</td>\n",
       "      <td>priyanshu</td>\n",
       "      <td>56</td>\n",
       "      <td>agra</td>\n",
       "    </tr>\n",
       "  </tbody>\n",
       "</table>\n",
       "</div>"
      ],
      "text/plain": [
       "        Unnamed: 0       name  marks    city\n",
       "first            0    pranjal     96  kanpur\n",
       "second           1      harsh     82    agra\n",
       "third            2  priyanshu     56    agra"
      ]
     },
     "execution_count": 22,
     "metadata": {},
     "output_type": "execute_result"
    }
   ],
   "source": [
    "demo"
   ]
  },
  {
   "cell_type": "code",
   "execution_count": null,
   "id": "bb11a04b",
   "metadata": {},
   "outputs": [],
   "source": [
    "#newpart-------------------------------------------------------------------------------------------------------"
   ]
  },
  {
   "cell_type": "code",
   "execution_count": 25,
   "id": "26298fb7",
   "metadata": {},
   "outputs": [],
   "source": [
    "ser=pd.Series(np.random.rand(34))"
   ]
  },
  {
   "cell_type": "code",
   "execution_count": 26,
   "id": "9c8ae31f",
   "metadata": {},
   "outputs": [
    {
     "data": {
      "text/plain": [
       "0     0.356936\n",
       "1     0.391365\n",
       "2     0.492612\n",
       "3     0.123016\n",
       "4     0.306869\n",
       "5     0.943046\n",
       "6     0.317219\n",
       "7     0.324602\n",
       "8     0.432272\n",
       "9     0.991667\n",
       "10    0.200404\n",
       "11    0.716698\n",
       "12    0.325640\n",
       "13    0.779866\n",
       "14    0.160206\n",
       "15    0.542513\n",
       "16    0.291120\n",
       "17    0.996413\n",
       "18    0.723210\n",
       "19    0.136854\n",
       "20    0.153165\n",
       "21    0.670841\n",
       "22    0.019082\n",
       "23    0.318812\n",
       "24    0.781880\n",
       "25    0.168872\n",
       "26    0.266036\n",
       "27    0.109123\n",
       "28    0.014715\n",
       "29    0.283720\n",
       "30    0.754228\n",
       "31    0.363907\n",
       "32    0.522056\n",
       "33    0.470122\n",
       "dtype: float64"
      ]
     },
     "execution_count": 26,
     "metadata": {},
     "output_type": "execute_result"
    }
   ],
   "source": [
    "ser"
   ]
  },
  {
   "cell_type": "code",
   "execution_count": 27,
   "id": "27d23e09",
   "metadata": {},
   "outputs": [
    {
     "data": {
      "text/plain": [
       "pandas.core.series.Series"
      ]
     },
     "execution_count": 27,
     "metadata": {},
     "output_type": "execute_result"
    }
   ],
   "source": [
    "type(ser)"
   ]
  },
  {
   "cell_type": "code",
   "execution_count": 29,
   "id": "41a789f9",
   "metadata": {},
   "outputs": [],
   "source": [
    "newdf=pd.DataFrame(np.random.rand(334,5), index=np.arange(334))"
   ]
  },
  {
   "cell_type": "code",
   "execution_count": 30,
   "id": "1e16488f",
   "metadata": {},
   "outputs": [
    {
     "data": {
      "text/html": [
       "<div>\n",
       "<style scoped>\n",
       "    .dataframe tbody tr th:only-of-type {\n",
       "        vertical-align: middle;\n",
       "    }\n",
       "\n",
       "    .dataframe tbody tr th {\n",
       "        vertical-align: top;\n",
       "    }\n",
       "\n",
       "    .dataframe thead th {\n",
       "        text-align: right;\n",
       "    }\n",
       "</style>\n",
       "<table border=\"1\" class=\"dataframe\">\n",
       "  <thead>\n",
       "    <tr style=\"text-align: right;\">\n",
       "      <th></th>\n",
       "      <th>0</th>\n",
       "      <th>1</th>\n",
       "      <th>2</th>\n",
       "      <th>3</th>\n",
       "      <th>4</th>\n",
       "    </tr>\n",
       "  </thead>\n",
       "  <tbody>\n",
       "    <tr>\n",
       "      <th>0</th>\n",
       "      <td>0.598777</td>\n",
       "      <td>0.820783</td>\n",
       "      <td>0.172874</td>\n",
       "      <td>0.129022</td>\n",
       "      <td>0.615119</td>\n",
       "    </tr>\n",
       "    <tr>\n",
       "      <th>1</th>\n",
       "      <td>0.769228</td>\n",
       "      <td>0.625038</td>\n",
       "      <td>0.147044</td>\n",
       "      <td>0.175081</td>\n",
       "      <td>0.496804</td>\n",
       "    </tr>\n",
       "    <tr>\n",
       "      <th>2</th>\n",
       "      <td>0.550223</td>\n",
       "      <td>0.405631</td>\n",
       "      <td>0.411613</td>\n",
       "      <td>0.619424</td>\n",
       "      <td>0.833696</td>\n",
       "    </tr>\n",
       "    <tr>\n",
       "      <th>3</th>\n",
       "      <td>0.960442</td>\n",
       "      <td>0.950304</td>\n",
       "      <td>0.682745</td>\n",
       "      <td>0.940451</td>\n",
       "      <td>0.815450</td>\n",
       "    </tr>\n",
       "    <tr>\n",
       "      <th>4</th>\n",
       "      <td>0.024518</td>\n",
       "      <td>0.223723</td>\n",
       "      <td>0.927263</td>\n",
       "      <td>0.050624</td>\n",
       "      <td>0.683589</td>\n",
       "    </tr>\n",
       "  </tbody>\n",
       "</table>\n",
       "</div>"
      ],
      "text/plain": [
       "          0         1         2         3         4\n",
       "0  0.598777  0.820783  0.172874  0.129022  0.615119\n",
       "1  0.769228  0.625038  0.147044  0.175081  0.496804\n",
       "2  0.550223  0.405631  0.411613  0.619424  0.833696\n",
       "3  0.960442  0.950304  0.682745  0.940451  0.815450\n",
       "4  0.024518  0.223723  0.927263  0.050624  0.683589"
      ]
     },
     "execution_count": 30,
     "metadata": {},
     "output_type": "execute_result"
    }
   ],
   "source": [
    "newdf.head()"
   ]
  },
  {
   "cell_type": "code",
   "execution_count": 31,
   "id": "27621780",
   "metadata": {},
   "outputs": [
    {
     "data": {
      "text/plain": [
       "pandas.core.frame.DataFrame"
      ]
     },
     "execution_count": 31,
     "metadata": {},
     "output_type": "execute_result"
    }
   ],
   "source": [
    "type(newdf)"
   ]
  },
  {
   "cell_type": "code",
   "execution_count": 32,
   "id": "e903b45b",
   "metadata": {},
   "outputs": [
    {
     "data": {
      "text/html": [
       "<div>\n",
       "<style scoped>\n",
       "    .dataframe tbody tr th:only-of-type {\n",
       "        vertical-align: middle;\n",
       "    }\n",
       "\n",
       "    .dataframe tbody tr th {\n",
       "        vertical-align: top;\n",
       "    }\n",
       "\n",
       "    .dataframe thead th {\n",
       "        text-align: right;\n",
       "    }\n",
       "</style>\n",
       "<table border=\"1\" class=\"dataframe\">\n",
       "  <thead>\n",
       "    <tr style=\"text-align: right;\">\n",
       "      <th></th>\n",
       "      <th>0</th>\n",
       "      <th>1</th>\n",
       "      <th>2</th>\n",
       "      <th>3</th>\n",
       "      <th>4</th>\n",
       "    </tr>\n",
       "  </thead>\n",
       "  <tbody>\n",
       "    <tr>\n",
       "      <th>count</th>\n",
       "      <td>334.000000</td>\n",
       "      <td>334.000000</td>\n",
       "      <td>334.000000</td>\n",
       "      <td>334.000000</td>\n",
       "      <td>334.000000</td>\n",
       "    </tr>\n",
       "    <tr>\n",
       "      <th>mean</th>\n",
       "      <td>0.521602</td>\n",
       "      <td>0.495255</td>\n",
       "      <td>0.491824</td>\n",
       "      <td>0.474819</td>\n",
       "      <td>0.498565</td>\n",
       "    </tr>\n",
       "    <tr>\n",
       "      <th>std</th>\n",
       "      <td>0.293918</td>\n",
       "      <td>0.289039</td>\n",
       "      <td>0.288062</td>\n",
       "      <td>0.291897</td>\n",
       "      <td>0.296610</td>\n",
       "    </tr>\n",
       "    <tr>\n",
       "      <th>min</th>\n",
       "      <td>0.000486</td>\n",
       "      <td>0.002219</td>\n",
       "      <td>0.002755</td>\n",
       "      <td>0.002088</td>\n",
       "      <td>0.001694</td>\n",
       "    </tr>\n",
       "    <tr>\n",
       "      <th>25%</th>\n",
       "      <td>0.271982</td>\n",
       "      <td>0.256457</td>\n",
       "      <td>0.251914</td>\n",
       "      <td>0.204221</td>\n",
       "      <td>0.242499</td>\n",
       "    </tr>\n",
       "    <tr>\n",
       "      <th>50%</th>\n",
       "      <td>0.536973</td>\n",
       "      <td>0.500373</td>\n",
       "      <td>0.463681</td>\n",
       "      <td>0.468782</td>\n",
       "      <td>0.492438</td>\n",
       "    </tr>\n",
       "    <tr>\n",
       "      <th>75%</th>\n",
       "      <td>0.791323</td>\n",
       "      <td>0.726004</td>\n",
       "      <td>0.736930</td>\n",
       "      <td>0.711809</td>\n",
       "      <td>0.749925</td>\n",
       "    </tr>\n",
       "    <tr>\n",
       "      <th>max</th>\n",
       "      <td>0.999894</td>\n",
       "      <td>0.998378</td>\n",
       "      <td>0.997886</td>\n",
       "      <td>0.992236</td>\n",
       "      <td>0.995156</td>\n",
       "    </tr>\n",
       "  </tbody>\n",
       "</table>\n",
       "</div>"
      ],
      "text/plain": [
       "                0           1           2           3           4\n",
       "count  334.000000  334.000000  334.000000  334.000000  334.000000\n",
       "mean     0.521602    0.495255    0.491824    0.474819    0.498565\n",
       "std      0.293918    0.289039    0.288062    0.291897    0.296610\n",
       "min      0.000486    0.002219    0.002755    0.002088    0.001694\n",
       "25%      0.271982    0.256457    0.251914    0.204221    0.242499\n",
       "50%      0.536973    0.500373    0.463681    0.468782    0.492438\n",
       "75%      0.791323    0.726004    0.736930    0.711809    0.749925\n",
       "max      0.999894    0.998378    0.997886    0.992236    0.995156"
      ]
     },
     "execution_count": 32,
     "metadata": {},
     "output_type": "execute_result"
    }
   ],
   "source": [
    "newdf.describe()"
   ]
  },
  {
   "cell_type": "code",
   "execution_count": 34,
   "id": "8e262efd",
   "metadata": {},
   "outputs": [
    {
     "data": {
      "text/plain": [
       "0    float64\n",
       "1    float64\n",
       "2    float64\n",
       "3    float64\n",
       "4    float64\n",
       "dtype: object"
      ]
     },
     "execution_count": 34,
     "metadata": {},
     "output_type": "execute_result"
    }
   ],
   "source": [
    "newdf.dtypes"
   ]
  },
  {
   "cell_type": "code",
   "execution_count": 35,
   "id": "8eb079af",
   "metadata": {},
   "outputs": [
    {
     "data": {
      "text/plain": [
       "Index([  0,   1,   2,   3,   4,   5,   6,   7,   8,   9,\n",
       "       ...\n",
       "       324, 325, 326, 327, 328, 329, 330, 331, 332, 333],\n",
       "      dtype='int64', length=334)"
      ]
     },
     "execution_count": 35,
     "metadata": {},
     "output_type": "execute_result"
    }
   ],
   "source": [
    "newdf.index"
   ]
  },
  {
   "cell_type": "code",
   "execution_count": 36,
   "id": "2cebe71d",
   "metadata": {},
   "outputs": [
    {
     "data": {
      "text/plain": [
       "RangeIndex(start=0, stop=5, step=1)"
      ]
     },
     "execution_count": 36,
     "metadata": {},
     "output_type": "execute_result"
    }
   ],
   "source": [
    "newdf.columns"
   ]
  },
  {
   "cell_type": "code",
   "execution_count": 37,
   "id": "4c65dba5",
   "metadata": {},
   "outputs": [
    {
     "data": {
      "text/plain": [
       "array([[0.59877725, 0.82078331, 0.17287365, 0.12902218, 0.61511873],\n",
       "       [0.76922783, 0.62503794, 0.14704357, 0.17508103, 0.49680442],\n",
       "       [0.55022311, 0.40563084, 0.41161348, 0.61942437, 0.8336963 ],\n",
       "       ...,\n",
       "       [0.36204894, 0.19725645, 0.34070412, 0.54657431, 0.47511574],\n",
       "       [0.65167728, 0.58284038, 0.56527844, 0.91094868, 0.38640743],\n",
       "       [0.56760933, 0.77961694, 0.70881349, 0.38913556, 0.55209085]])"
      ]
     },
     "execution_count": 37,
     "metadata": {},
     "output_type": "execute_result"
    }
   ],
   "source": [
    "newdf.to_numpy()"
   ]
  },
  {
   "cell_type": "code",
   "execution_count": 39,
   "id": "20e09fb3",
   "metadata": {},
   "outputs": [
    {
     "data": {
      "text/html": [
       "<div>\n",
       "<style scoped>\n",
       "    .dataframe tbody tr th:only-of-type {\n",
       "        vertical-align: middle;\n",
       "    }\n",
       "\n",
       "    .dataframe tbody tr th {\n",
       "        vertical-align: top;\n",
       "    }\n",
       "\n",
       "    .dataframe thead th {\n",
       "        text-align: right;\n",
       "    }\n",
       "</style>\n",
       "<table border=\"1\" class=\"dataframe\">\n",
       "  <thead>\n",
       "    <tr style=\"text-align: right;\">\n",
       "      <th></th>\n",
       "      <th>0</th>\n",
       "      <th>1</th>\n",
       "      <th>2</th>\n",
       "      <th>3</th>\n",
       "      <th>4</th>\n",
       "      <th>5</th>\n",
       "      <th>6</th>\n",
       "      <th>7</th>\n",
       "      <th>8</th>\n",
       "      <th>9</th>\n",
       "      <th>...</th>\n",
       "      <th>324</th>\n",
       "      <th>325</th>\n",
       "      <th>326</th>\n",
       "      <th>327</th>\n",
       "      <th>328</th>\n",
       "      <th>329</th>\n",
       "      <th>330</th>\n",
       "      <th>331</th>\n",
       "      <th>332</th>\n",
       "      <th>333</th>\n",
       "    </tr>\n",
       "  </thead>\n",
       "  <tbody>\n",
       "    <tr>\n",
       "      <th>0</th>\n",
       "      <td>0.598777</td>\n",
       "      <td>0.769228</td>\n",
       "      <td>0.550223</td>\n",
       "      <td>0.960442</td>\n",
       "      <td>0.024518</td>\n",
       "      <td>0.876122</td>\n",
       "      <td>0.163706</td>\n",
       "      <td>0.919675</td>\n",
       "      <td>0.452895</td>\n",
       "      <td>0.567457</td>\n",
       "      <td>...</td>\n",
       "      <td>0.409570</td>\n",
       "      <td>0.419139</td>\n",
       "      <td>0.917071</td>\n",
       "      <td>0.791575</td>\n",
       "      <td>0.476305</td>\n",
       "      <td>0.842552</td>\n",
       "      <td>0.085547</td>\n",
       "      <td>0.362049</td>\n",
       "      <td>0.651677</td>\n",
       "      <td>0.567609</td>\n",
       "    </tr>\n",
       "    <tr>\n",
       "      <th>1</th>\n",
       "      <td>0.820783</td>\n",
       "      <td>0.625038</td>\n",
       "      <td>0.405631</td>\n",
       "      <td>0.950304</td>\n",
       "      <td>0.223723</td>\n",
       "      <td>0.574006</td>\n",
       "      <td>0.587512</td>\n",
       "      <td>0.027819</td>\n",
       "      <td>0.432398</td>\n",
       "      <td>0.370856</td>\n",
       "      <td>...</td>\n",
       "      <td>0.101450</td>\n",
       "      <td>0.744766</td>\n",
       "      <td>0.389801</td>\n",
       "      <td>0.344943</td>\n",
       "      <td>0.097190</td>\n",
       "      <td>0.223466</td>\n",
       "      <td>0.662977</td>\n",
       "      <td>0.197256</td>\n",
       "      <td>0.582840</td>\n",
       "      <td>0.779617</td>\n",
       "    </tr>\n",
       "    <tr>\n",
       "      <th>2</th>\n",
       "      <td>0.172874</td>\n",
       "      <td>0.147044</td>\n",
       "      <td>0.411613</td>\n",
       "      <td>0.682745</td>\n",
       "      <td>0.927263</td>\n",
       "      <td>0.303238</td>\n",
       "      <td>0.564808</td>\n",
       "      <td>0.687097</td>\n",
       "      <td>0.060163</td>\n",
       "      <td>0.337634</td>\n",
       "      <td>...</td>\n",
       "      <td>0.193643</td>\n",
       "      <td>0.643585</td>\n",
       "      <td>0.645945</td>\n",
       "      <td>0.961987</td>\n",
       "      <td>0.600614</td>\n",
       "      <td>0.351286</td>\n",
       "      <td>0.452271</td>\n",
       "      <td>0.340704</td>\n",
       "      <td>0.565278</td>\n",
       "      <td>0.708813</td>\n",
       "    </tr>\n",
       "    <tr>\n",
       "      <th>3</th>\n",
       "      <td>0.129022</td>\n",
       "      <td>0.175081</td>\n",
       "      <td>0.619424</td>\n",
       "      <td>0.940451</td>\n",
       "      <td>0.050624</td>\n",
       "      <td>0.637510</td>\n",
       "      <td>0.629456</td>\n",
       "      <td>0.183841</td>\n",
       "      <td>0.333395</td>\n",
       "      <td>0.192585</td>\n",
       "      <td>...</td>\n",
       "      <td>0.082832</td>\n",
       "      <td>0.141088</td>\n",
       "      <td>0.026541</td>\n",
       "      <td>0.255277</td>\n",
       "      <td>0.931920</td>\n",
       "      <td>0.904316</td>\n",
       "      <td>0.153643</td>\n",
       "      <td>0.546574</td>\n",
       "      <td>0.910949</td>\n",
       "      <td>0.389136</td>\n",
       "    </tr>\n",
       "    <tr>\n",
       "      <th>4</th>\n",
       "      <td>0.615119</td>\n",
       "      <td>0.496804</td>\n",
       "      <td>0.833696</td>\n",
       "      <td>0.815450</td>\n",
       "      <td>0.683589</td>\n",
       "      <td>0.599606</td>\n",
       "      <td>0.213173</td>\n",
       "      <td>0.458595</td>\n",
       "      <td>0.358235</td>\n",
       "      <td>0.270360</td>\n",
       "      <td>...</td>\n",
       "      <td>0.360635</td>\n",
       "      <td>0.398642</td>\n",
       "      <td>0.910809</td>\n",
       "      <td>0.385585</td>\n",
       "      <td>0.840035</td>\n",
       "      <td>0.822666</td>\n",
       "      <td>0.472605</td>\n",
       "      <td>0.475116</td>\n",
       "      <td>0.386407</td>\n",
       "      <td>0.552091</td>\n",
       "    </tr>\n",
       "  </tbody>\n",
       "</table>\n",
       "<p>5 rows × 334 columns</p>\n",
       "</div>"
      ],
      "text/plain": [
       "        0         1         2         3         4         5         6    \\\n",
       "0  0.598777  0.769228  0.550223  0.960442  0.024518  0.876122  0.163706   \n",
       "1  0.820783  0.625038  0.405631  0.950304  0.223723  0.574006  0.587512   \n",
       "2  0.172874  0.147044  0.411613  0.682745  0.927263  0.303238  0.564808   \n",
       "3  0.129022  0.175081  0.619424  0.940451  0.050624  0.637510  0.629456   \n",
       "4  0.615119  0.496804  0.833696  0.815450  0.683589  0.599606  0.213173   \n",
       "\n",
       "        7         8         9    ...       324       325       326       327  \\\n",
       "0  0.919675  0.452895  0.567457  ...  0.409570  0.419139  0.917071  0.791575   \n",
       "1  0.027819  0.432398  0.370856  ...  0.101450  0.744766  0.389801  0.344943   \n",
       "2  0.687097  0.060163  0.337634  ...  0.193643  0.643585  0.645945  0.961987   \n",
       "3  0.183841  0.333395  0.192585  ...  0.082832  0.141088  0.026541  0.255277   \n",
       "4  0.458595  0.358235  0.270360  ...  0.360635  0.398642  0.910809  0.385585   \n",
       "\n",
       "        328       329       330       331       332       333  \n",
       "0  0.476305  0.842552  0.085547  0.362049  0.651677  0.567609  \n",
       "1  0.097190  0.223466  0.662977  0.197256  0.582840  0.779617  \n",
       "2  0.600614  0.351286  0.452271  0.340704  0.565278  0.708813  \n",
       "3  0.931920  0.904316  0.153643  0.546574  0.910949  0.389136  \n",
       "4  0.840035  0.822666  0.472605  0.475116  0.386407  0.552091  \n",
       "\n",
       "[5 rows x 334 columns]"
      ]
     },
     "execution_count": 39,
     "metadata": {},
     "output_type": "execute_result"
    }
   ],
   "source": [
    "#to transpose\n",
    "newdf.T"
   ]
  },
  {
   "cell_type": "code",
   "execution_count": 42,
   "id": "ac41e3a6",
   "metadata": {},
   "outputs": [
    {
     "data": {
      "text/html": [
       "<div>\n",
       "<style scoped>\n",
       "    .dataframe tbody tr th:only-of-type {\n",
       "        vertical-align: middle;\n",
       "    }\n",
       "\n",
       "    .dataframe tbody tr th {\n",
       "        vertical-align: top;\n",
       "    }\n",
       "\n",
       "    .dataframe thead th {\n",
       "        text-align: right;\n",
       "    }\n",
       "</style>\n",
       "<table border=\"1\" class=\"dataframe\">\n",
       "  <thead>\n",
       "    <tr style=\"text-align: right;\">\n",
       "      <th></th>\n",
       "      <th>0</th>\n",
       "      <th>1</th>\n",
       "      <th>2</th>\n",
       "      <th>3</th>\n",
       "      <th>4</th>\n",
       "    </tr>\n",
       "  </thead>\n",
       "  <tbody>\n",
       "    <tr>\n",
       "      <th>333</th>\n",
       "      <td>0.567609</td>\n",
       "      <td>0.779617</td>\n",
       "      <td>0.708813</td>\n",
       "      <td>0.389136</td>\n",
       "      <td>0.552091</td>\n",
       "    </tr>\n",
       "    <tr>\n",
       "      <th>332</th>\n",
       "      <td>0.651677</td>\n",
       "      <td>0.582840</td>\n",
       "      <td>0.565278</td>\n",
       "      <td>0.910949</td>\n",
       "      <td>0.386407</td>\n",
       "    </tr>\n",
       "    <tr>\n",
       "      <th>331</th>\n",
       "      <td>0.362049</td>\n",
       "      <td>0.197256</td>\n",
       "      <td>0.340704</td>\n",
       "      <td>0.546574</td>\n",
       "      <td>0.475116</td>\n",
       "    </tr>\n",
       "    <tr>\n",
       "      <th>330</th>\n",
       "      <td>0.085547</td>\n",
       "      <td>0.662977</td>\n",
       "      <td>0.452271</td>\n",
       "      <td>0.153643</td>\n",
       "      <td>0.472605</td>\n",
       "    </tr>\n",
       "    <tr>\n",
       "      <th>329</th>\n",
       "      <td>0.842552</td>\n",
       "      <td>0.223466</td>\n",
       "      <td>0.351286</td>\n",
       "      <td>0.904316</td>\n",
       "      <td>0.822666</td>\n",
       "    </tr>\n",
       "    <tr>\n",
       "      <th>...</th>\n",
       "      <td>...</td>\n",
       "      <td>...</td>\n",
       "      <td>...</td>\n",
       "      <td>...</td>\n",
       "      <td>...</td>\n",
       "    </tr>\n",
       "    <tr>\n",
       "      <th>4</th>\n",
       "      <td>0.024518</td>\n",
       "      <td>0.223723</td>\n",
       "      <td>0.927263</td>\n",
       "      <td>0.050624</td>\n",
       "      <td>0.683589</td>\n",
       "    </tr>\n",
       "    <tr>\n",
       "      <th>3</th>\n",
       "      <td>0.960442</td>\n",
       "      <td>0.950304</td>\n",
       "      <td>0.682745</td>\n",
       "      <td>0.940451</td>\n",
       "      <td>0.815450</td>\n",
       "    </tr>\n",
       "    <tr>\n",
       "      <th>2</th>\n",
       "      <td>0.550223</td>\n",
       "      <td>0.405631</td>\n",
       "      <td>0.411613</td>\n",
       "      <td>0.619424</td>\n",
       "      <td>0.833696</td>\n",
       "    </tr>\n",
       "    <tr>\n",
       "      <th>1</th>\n",
       "      <td>0.769228</td>\n",
       "      <td>0.625038</td>\n",
       "      <td>0.147044</td>\n",
       "      <td>0.175081</td>\n",
       "      <td>0.496804</td>\n",
       "    </tr>\n",
       "    <tr>\n",
       "      <th>0</th>\n",
       "      <td>0.598777</td>\n",
       "      <td>0.820783</td>\n",
       "      <td>0.172874</td>\n",
       "      <td>0.129022</td>\n",
       "      <td>0.615119</td>\n",
       "    </tr>\n",
       "  </tbody>\n",
       "</table>\n",
       "<p>334 rows × 5 columns</p>\n",
       "</div>"
      ],
      "text/plain": [
       "            0         1         2         3         4\n",
       "333  0.567609  0.779617  0.708813  0.389136  0.552091\n",
       "332  0.651677  0.582840  0.565278  0.910949  0.386407\n",
       "331  0.362049  0.197256  0.340704  0.546574  0.475116\n",
       "330  0.085547  0.662977  0.452271  0.153643  0.472605\n",
       "329  0.842552  0.223466  0.351286  0.904316  0.822666\n",
       "..        ...       ...       ...       ...       ...\n",
       "4    0.024518  0.223723  0.927263  0.050624  0.683589\n",
       "3    0.960442  0.950304  0.682745  0.940451  0.815450\n",
       "2    0.550223  0.405631  0.411613  0.619424  0.833696\n",
       "1    0.769228  0.625038  0.147044  0.175081  0.496804\n",
       "0    0.598777  0.820783  0.172874  0.129022  0.615119\n",
       "\n",
       "[334 rows x 5 columns]"
      ]
     },
     "execution_count": 42,
     "metadata": {},
     "output_type": "execute_result"
    }
   ],
   "source": [
    "newdf.sort_index(axis=0,ascending=False)"
   ]
  },
  {
   "cell_type": "code",
   "execution_count": 44,
   "id": "5eddf58c",
   "metadata": {},
   "outputs": [],
   "source": [
    "newdf.columns=list('ABCDE')"
   ]
  },
  {
   "cell_type": "code",
   "execution_count": 46,
   "id": "f9a92e9c",
   "metadata": {},
   "outputs": [
    {
     "data": {
      "text/html": [
       "<div>\n",
       "<style scoped>\n",
       "    .dataframe tbody tr th:only-of-type {\n",
       "        vertical-align: middle;\n",
       "    }\n",
       "\n",
       "    .dataframe tbody tr th {\n",
       "        vertical-align: top;\n",
       "    }\n",
       "\n",
       "    .dataframe thead th {\n",
       "        text-align: right;\n",
       "    }\n",
       "</style>\n",
       "<table border=\"1\" class=\"dataframe\">\n",
       "  <thead>\n",
       "    <tr style=\"text-align: right;\">\n",
       "      <th></th>\n",
       "      <th>A</th>\n",
       "      <th>B</th>\n",
       "      <th>C</th>\n",
       "      <th>D</th>\n",
       "      <th>E</th>\n",
       "    </tr>\n",
       "  </thead>\n",
       "  <tbody>\n",
       "    <tr>\n",
       "      <th>0</th>\n",
       "      <td>0.598777</td>\n",
       "      <td>0.820783</td>\n",
       "      <td>0.172874</td>\n",
       "      <td>0.129022</td>\n",
       "      <td>0.615119</td>\n",
       "    </tr>\n",
       "    <tr>\n",
       "      <th>1</th>\n",
       "      <td>0.769228</td>\n",
       "      <td>0.625038</td>\n",
       "      <td>0.147044</td>\n",
       "      <td>0.175081</td>\n",
       "      <td>0.496804</td>\n",
       "    </tr>\n",
       "    <tr>\n",
       "      <th>2</th>\n",
       "      <td>0.550223</td>\n",
       "      <td>0.405631</td>\n",
       "      <td>0.411613</td>\n",
       "      <td>0.619424</td>\n",
       "      <td>0.833696</td>\n",
       "    </tr>\n",
       "    <tr>\n",
       "      <th>3</th>\n",
       "      <td>0.960442</td>\n",
       "      <td>0.950304</td>\n",
       "      <td>0.682745</td>\n",
       "      <td>0.940451</td>\n",
       "      <td>0.815450</td>\n",
       "    </tr>\n",
       "    <tr>\n",
       "      <th>4</th>\n",
       "      <td>0.024518</td>\n",
       "      <td>0.223723</td>\n",
       "      <td>0.927263</td>\n",
       "      <td>0.050624</td>\n",
       "      <td>0.683589</td>\n",
       "    </tr>\n",
       "  </tbody>\n",
       "</table>\n",
       "</div>"
      ],
      "text/plain": [
       "          A         B         C         D         E\n",
       "0  0.598777  0.820783  0.172874  0.129022  0.615119\n",
       "1  0.769228  0.625038  0.147044  0.175081  0.496804\n",
       "2  0.550223  0.405631  0.411613  0.619424  0.833696\n",
       "3  0.960442  0.950304  0.682745  0.940451  0.815450\n",
       "4  0.024518  0.223723  0.927263  0.050624  0.683589"
      ]
     },
     "execution_count": 46,
     "metadata": {},
     "output_type": "execute_result"
    }
   ],
   "source": [
    "newdf.head()"
   ]
  },
  {
   "cell_type": "code",
   "execution_count": 50,
   "id": "8f88f212",
   "metadata": {},
   "outputs": [
    {
     "data": {
      "text/html": [
       "<div>\n",
       "<style scoped>\n",
       "    .dataframe tbody tr th:only-of-type {\n",
       "        vertical-align: middle;\n",
       "    }\n",
       "\n",
       "    .dataframe tbody tr th {\n",
       "        vertical-align: top;\n",
       "    }\n",
       "\n",
       "    .dataframe thead th {\n",
       "        text-align: right;\n",
       "    }\n",
       "</style>\n",
       "<table border=\"1\" class=\"dataframe\">\n",
       "  <thead>\n",
       "    <tr style=\"text-align: right;\">\n",
       "      <th></th>\n",
       "      <th>A</th>\n",
       "      <th>B</th>\n",
       "      <th>C</th>\n",
       "      <th>D</th>\n",
       "      <th>E</th>\n",
       "    </tr>\n",
       "  </thead>\n",
       "  <tbody>\n",
       "    <tr>\n",
       "      <th>4</th>\n",
       "      <td>0.024518</td>\n",
       "      <td>0.223723</td>\n",
       "      <td>0.927263</td>\n",
       "      <td>0.050624</td>\n",
       "      <td>0.683589</td>\n",
       "    </tr>\n",
       "    <tr>\n",
       "      <th>6</th>\n",
       "      <td>0.163706</td>\n",
       "      <td>0.587512</td>\n",
       "      <td>0.564808</td>\n",
       "      <td>0.629456</td>\n",
       "      <td>0.213173</td>\n",
       "    </tr>\n",
       "    <tr>\n",
       "      <th>10</th>\n",
       "      <td>0.017662</td>\n",
       "      <td>0.421792</td>\n",
       "      <td>0.336488</td>\n",
       "      <td>0.228783</td>\n",
       "      <td>0.407288</td>\n",
       "    </tr>\n",
       "    <tr>\n",
       "      <th>12</th>\n",
       "      <td>0.010455</td>\n",
       "      <td>0.183449</td>\n",
       "      <td>0.337585</td>\n",
       "      <td>0.889414</td>\n",
       "      <td>0.905226</td>\n",
       "    </tr>\n",
       "    <tr>\n",
       "      <th>18</th>\n",
       "      <td>0.298109</td>\n",
       "      <td>0.103834</td>\n",
       "      <td>0.157230</td>\n",
       "      <td>0.316862</td>\n",
       "      <td>0.496494</td>\n",
       "    </tr>\n",
       "    <tr>\n",
       "      <th>...</th>\n",
       "      <td>...</td>\n",
       "      <td>...</td>\n",
       "      <td>...</td>\n",
       "      <td>...</td>\n",
       "      <td>...</td>\n",
       "    </tr>\n",
       "    <tr>\n",
       "      <th>314</th>\n",
       "      <td>0.216588</td>\n",
       "      <td>0.967261</td>\n",
       "      <td>0.701809</td>\n",
       "      <td>0.839545</td>\n",
       "      <td>0.045720</td>\n",
       "    </tr>\n",
       "    <tr>\n",
       "      <th>318</th>\n",
       "      <td>0.228704</td>\n",
       "      <td>0.303531</td>\n",
       "      <td>0.996782</td>\n",
       "      <td>0.977225</td>\n",
       "      <td>0.350528</td>\n",
       "    </tr>\n",
       "    <tr>\n",
       "      <th>321</th>\n",
       "      <td>0.228098</td>\n",
       "      <td>0.940617</td>\n",
       "      <td>0.550058</td>\n",
       "      <td>0.088415</td>\n",
       "      <td>0.971623</td>\n",
       "    </tr>\n",
       "    <tr>\n",
       "      <th>322</th>\n",
       "      <td>0.245377</td>\n",
       "      <td>0.593338</td>\n",
       "      <td>0.731534</td>\n",
       "      <td>0.061913</td>\n",
       "      <td>0.055965</td>\n",
       "    </tr>\n",
       "    <tr>\n",
       "      <th>330</th>\n",
       "      <td>0.085547</td>\n",
       "      <td>0.662977</td>\n",
       "      <td>0.452271</td>\n",
       "      <td>0.153643</td>\n",
       "      <td>0.472605</td>\n",
       "    </tr>\n",
       "  </tbody>\n",
       "</table>\n",
       "<p>86 rows × 5 columns</p>\n",
       "</div>"
      ],
      "text/plain": [
       "            A         B         C         D         E\n",
       "4    0.024518  0.223723  0.927263  0.050624  0.683589\n",
       "6    0.163706  0.587512  0.564808  0.629456  0.213173\n",
       "10   0.017662  0.421792  0.336488  0.228783  0.407288\n",
       "12   0.010455  0.183449  0.337585  0.889414  0.905226\n",
       "18   0.298109  0.103834  0.157230  0.316862  0.496494\n",
       "..        ...       ...       ...       ...       ...\n",
       "314  0.216588  0.967261  0.701809  0.839545  0.045720\n",
       "318  0.228704  0.303531  0.996782  0.977225  0.350528\n",
       "321  0.228098  0.940617  0.550058  0.088415  0.971623\n",
       "322  0.245377  0.593338  0.731534  0.061913  0.055965\n",
       "330  0.085547  0.662977  0.452271  0.153643  0.472605\n",
       "\n",
       "[86 rows x 5 columns]"
      ]
     },
     "execution_count": 50,
     "metadata": {},
     "output_type": "execute_result"
    }
   ],
   "source": [
    "newdf.loc[(newdf['A']<0.3)&(newdf['C']>0.1)]"
   ]
  },
  {
   "cell_type": "code",
   "execution_count": 51,
   "id": "d3ed615d",
   "metadata": {},
   "outputs": [
    {
     "data": {
      "text/plain": [
       "np.float64(0.615118733839128)"
      ]
     },
     "execution_count": 51,
     "metadata": {},
     "output_type": "execute_result"
    }
   ],
   "source": [
    "#gintikarne ke liye\n",
    "newdf.iloc[0,4]"
   ]
  },
  {
   "cell_type": "code",
   "execution_count": 52,
   "id": "846ba9be",
   "metadata": {},
   "outputs": [
    {
     "data": {
      "text/html": [
       "<div>\n",
       "<style scoped>\n",
       "    .dataframe tbody tr th:only-of-type {\n",
       "        vertical-align: middle;\n",
       "    }\n",
       "\n",
       "    .dataframe tbody tr th {\n",
       "        vertical-align: top;\n",
       "    }\n",
       "\n",
       "    .dataframe thead th {\n",
       "        text-align: right;\n",
       "    }\n",
       "</style>\n",
       "<table border=\"1\" class=\"dataframe\">\n",
       "  <thead>\n",
       "    <tr style=\"text-align: right;\">\n",
       "      <th></th>\n",
       "      <th>name</th>\n",
       "      <th>marks</th>\n",
       "      <th>city</th>\n",
       "    </tr>\n",
       "  </thead>\n",
       "  <tbody>\n",
       "    <tr>\n",
       "      <th>0</th>\n",
       "      <td>pranjal</td>\n",
       "      <td>94</td>\n",
       "      <td>kanpur</td>\n",
       "    </tr>\n",
       "    <tr>\n",
       "      <th>1</th>\n",
       "      <td>harsh</td>\n",
       "      <td>82</td>\n",
       "      <td>agra</td>\n",
       "    </tr>\n",
       "    <tr>\n",
       "      <th>2</th>\n",
       "      <td>priyanshu</td>\n",
       "      <td>56</td>\n",
       "      <td>agra</td>\n",
       "    </tr>\n",
       "  </tbody>\n",
       "</table>\n",
       "</div>"
      ],
      "text/plain": [
       "        name  marks    city\n",
       "0    pranjal     94  kanpur\n",
       "1      harsh     82    agra\n",
       "2  priyanshu     56    agra"
      ]
     },
     "execution_count": 52,
     "metadata": {},
     "output_type": "execute_result"
    }
   ],
   "source": [
    "df.drop_duplicates(subset=['name'])"
   ]
  },
  {
   "cell_type": "code",
   "execution_count": null,
   "id": "647243ca",
   "metadata": {},
   "outputs": [],
   "source": [
    " "
   ]
  }
 ],
 "metadata": {
  "kernelspec": {
   "display_name": "Python 3 (ipykernel)",
   "language": "python",
   "name": "python3"
  },
  "language_info": {
   "codemirror_mode": {
    "name": "ipython",
    "version": 3
   },
   "file_extension": ".py",
   "mimetype": "text/x-python",
   "name": "python",
   "nbconvert_exporter": "python",
   "pygments_lexer": "ipython3",
   "version": "3.12.5"
  }
 },
 "nbformat": 4,
 "nbformat_minor": 5
}
